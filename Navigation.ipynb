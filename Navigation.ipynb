{
 "cells": [
  {
   "cell_type": "markdown",
   "metadata": {},
   "source": [
    "# Navigation\n",
    "\n",
    "---\n",
    "\n",
    "You are welcome to use this coding environment to train your agent for the project.  Follow the instructions below to get started!\n",
    "\n",
    "### 1. Start the Environment\n",
    "\n",
    "Run the next code cell to install a few packages.  This line will take a few minutes to run!"
   ]
  },
  {
   "cell_type": "code",
   "execution_count": 1,
   "metadata": {},
   "outputs": [
    {
     "name": "stdout",
     "output_type": "stream",
     "text": [
      "\u001b[31mtensorflow 1.7.1 has requirement numpy>=1.13.3, but you'll have numpy 1.12.1 which is incompatible.\u001b[0m\r\n",
      "\u001b[31mipython 6.5.0 has requirement prompt-toolkit<2.0.0,>=1.0.15, but you'll have prompt-toolkit 3.0.19 which is incompatible.\u001b[0m\r\n"
     ]
    }
   ],
   "source": [
    "!pip -q install ./python"
   ]
  },
  {
   "cell_type": "code",
   "execution_count": 2,
   "metadata": {},
   "outputs": [
    {
     "name": "stdout",
     "output_type": "stream",
     "text": [
      "Collecting baselines\n",
      "\u001b[?25l  Downloading https://files.pythonhosted.org/packages/f1/bd/d7695f0e5649658b43eabf10d1efa11c70a30ce532faef994c8b7172a744/baselines-0.1.5.tar.gz (123kB)\n",
      "\u001b[K    100% |████████████████████████████████| 133kB 5.3MB/s ta 0:00:01\n",
      "\u001b[?25hRequirement already satisfied: gym[atari,classic_control,mujoco,robotics] in /opt/conda/lib/python3.6/site-packages (from baselines) (0.9.6)\n",
      "\u001b[33m  gym 0.9.6 does not provide the extra 'robotics'\u001b[0m\n",
      "Requirement already satisfied: scipy in /opt/conda/lib/python3.6/site-packages (from baselines) (1.2.1)\n",
      "Requirement already satisfied: tqdm in /opt/conda/lib/python3.6/site-packages (from baselines) (4.11.2)\n",
      "Requirement already satisfied: joblib in /opt/conda/lib/python3.6/site-packages (from baselines) (0.11)\n",
      "Collecting zmq (from baselines)\n",
      "  Downloading https://files.pythonhosted.org/packages/6e/78/833b2808793c1619835edb1a4e17a023d5d625f4f97ff25ffff986d1f472/zmq-0.0.0.tar.gz\n",
      "Requirement already satisfied: dill in /opt/conda/lib/python3.6/site-packages (from baselines) (0.2.7.1)\n",
      "Collecting progressbar2 (from baselines)\n",
      "  Downloading https://files.pythonhosted.org/packages/25/8c/d28cd70b6e0b870a2d2a151bdbecf4c678199d31731edb44fc8035d3bb6d/progressbar2-3.53.1-py2.py3-none-any.whl\n",
      "Collecting mpi4py (from baselines)\n",
      "\u001b[?25l  Downloading https://files.pythonhosted.org/packages/1a/a3/3a33c19379cb08cc1be16d1928a899e5b18151c7e8994d315a66017bc46f/mpi4py-3.1.0.tar.gz (2.4MB)\n",
      "\u001b[K    100% |████████████████████████████████| 2.5MB 10.1MB/s ta 0:00:01\n",
      "\u001b[?25h  Installing build dependencies ... \u001b[?25ldone\n",
      "\u001b[?25hRequirement already satisfied: cloudpickle in /opt/conda/lib/python3.6/site-packages (from baselines) (0.2.2)\n",
      "Requirement already satisfied: tensorflow>=1.4.0 in /opt/conda/lib/python3.6/site-packages (from baselines) (1.7.1)\n",
      "Requirement already satisfied: click in /opt/conda/lib/python3.6/site-packages (from baselines) (6.7)\n",
      "Requirement already satisfied: pyglet>=1.2.0 in /opt/conda/lib/python3.6/site-packages (from gym[atari,classic_control,mujoco,robotics]->baselines) (1.3.0)\n",
      "Requirement already satisfied: six in /opt/conda/lib/python3.6/site-packages (from gym[atari,classic_control,mujoco,robotics]->baselines) (1.11.0)\n",
      "Requirement already satisfied: requests>=2.0 in /opt/conda/lib/python3.6/site-packages (from gym[atari,classic_control,mujoco,robotics]->baselines) (2.18.4)\n",
      "Requirement already satisfied: numpy>=1.10.4 in /opt/conda/lib/python3.6/site-packages (from gym[atari,classic_control,mujoco,robotics]->baselines) (1.12.1)\n",
      "Requirement already satisfied: Pillow; extra == \"atari\" in /opt/conda/lib/python3.6/site-packages (from gym[atari,classic_control,mujoco,robotics]->baselines) (5.2.0)\n",
      "Requirement already satisfied: PyOpenGL; extra == \"atari\" in /opt/conda/lib/python3.6/site-packages (from gym[atari,classic_control,mujoco,robotics]->baselines) (3.1.0)\n",
      "Requirement already satisfied: atari-py>=0.1.1; extra == \"atari\" in /opt/conda/lib/python3.6/site-packages (from gym[atari,classic_control,mujoco,robotics]->baselines) (0.1.7)\n",
      "Requirement already satisfied: imageio; extra == \"mujoco\" in /opt/conda/lib/python3.6/site-packages (from gym[atari,classic_control,mujoco,robotics]->baselines) (2.1.2)\n",
      "Requirement already satisfied: mujoco-py>=1.50; extra == \"mujoco\" in /opt/conda/lib/python3.6/site-packages (from gym[atari,classic_control,mujoco,robotics]->baselines) (1.50.1.59)\n",
      "Requirement already satisfied: pyzmq in /opt/conda/lib/python3.6/site-packages (from zmq->baselines) (17.1.2)\n",
      "Collecting python-utils>=2.3.0 (from progressbar2->baselines)\n",
      "  Downloading https://files.pythonhosted.org/packages/62/47/974eb168d5012bc8841d4b5be10e345f3e706e25fa1661b68f193e16ca67/python_utils-2.5.6-py2.py3-none-any.whl\n",
      "Requirement already satisfied: astor>=0.6.0 in /opt/conda/lib/python3.6/site-packages (from tensorflow>=1.4.0->baselines) (0.8.1)\n",
      "Requirement already satisfied: gast>=0.2.0 in /opt/conda/lib/python3.6/site-packages (from tensorflow>=1.4.0->baselines) (0.5.2)\n",
      "Requirement already satisfied: wheel>=0.26 in /opt/conda/lib/python3.6/site-packages (from tensorflow>=1.4.0->baselines) (0.30.0)\n",
      "Requirement already satisfied: tensorboard<1.8.0,>=1.7.0 in /opt/conda/lib/python3.6/site-packages (from tensorflow>=1.4.0->baselines) (1.7.0)\n",
      "Requirement already satisfied: termcolor>=1.1.0 in /opt/conda/lib/python3.6/site-packages (from tensorflow>=1.4.0->baselines) (1.1.0)\n",
      "Requirement already satisfied: protobuf>=3.4.0 in /opt/conda/lib/python3.6/site-packages (from tensorflow>=1.4.0->baselines) (3.5.2)\n",
      "Requirement already satisfied: absl-py>=0.1.6 in /opt/conda/lib/python3.6/site-packages (from tensorflow>=1.4.0->baselines) (0.13.0)\n",
      "Requirement already satisfied: grpcio>=1.8.6 in /opt/conda/lib/python3.6/site-packages (from tensorflow>=1.4.0->baselines) (1.11.0)\n",
      "Requirement already satisfied: future in /opt/conda/lib/python3.6/site-packages (from pyglet>=1.2.0->gym[atari,classic_control,mujoco,robotics]->baselines) (0.16.0)\n",
      "Requirement already satisfied: chardet<3.1.0,>=3.0.2 in /opt/conda/lib/python3.6/site-packages (from requests>=2.0->gym[atari,classic_control,mujoco,robotics]->baselines) (3.0.4)\n",
      "Requirement already satisfied: idna<2.7,>=2.5 in /opt/conda/lib/python3.6/site-packages (from requests>=2.0->gym[atari,classic_control,mujoco,robotics]->baselines) (2.6)\n",
      "Requirement already satisfied: urllib3<1.23,>=1.21.1 in /opt/conda/lib/python3.6/site-packages (from requests>=2.0->gym[atari,classic_control,mujoco,robotics]->baselines) (1.22)\n",
      "Requirement already satisfied: certifi>=2017.4.17 in /opt/conda/lib/python3.6/site-packages (from requests>=2.0->gym[atari,classic_control,mujoco,robotics]->baselines) (2019.11.28)\n",
      "Requirement already satisfied: lockfile>=0.12.2 in /opt/conda/lib/python3.6/site-packages (from mujoco-py>=1.50; extra == \"mujoco\"->gym[atari,classic_control,mujoco,robotics]->baselines) (0.12.2)\n",
      "Requirement already satisfied: Cython>=0.27.2 in /opt/conda/lib/python3.6/site-packages (from mujoco-py>=1.50; extra == \"mujoco\"->gym[atari,classic_control,mujoco,robotics]->baselines) (0.29.7)\n",
      "Requirement already satisfied: cffi>=1.10 in /opt/conda/lib/python3.6/site-packages (from mujoco-py>=1.50; extra == \"mujoco\"->gym[atari,classic_control,mujoco,robotics]->baselines) (1.11.2)\n",
      "Requirement already satisfied: glfw>=1.4.0 in /opt/conda/lib/python3.6/site-packages (from mujoco-py>=1.50; extra == \"mujoco\"->gym[atari,classic_control,mujoco,robotics]->baselines) (1.8.0)\n",
      "Requirement already satisfied: werkzeug>=0.11.10 in /opt/conda/lib/python3.6/site-packages (from tensorboard<1.8.0,>=1.7.0->tensorflow>=1.4.0->baselines) (0.14.1)\n",
      "Requirement already satisfied: markdown>=2.6.8 in /opt/conda/lib/python3.6/site-packages (from tensorboard<1.8.0,>=1.7.0->tensorflow>=1.4.0->baselines) (2.6.9)\n",
      "Requirement already satisfied: html5lib==0.9999999 in /opt/conda/lib/python3.6/site-packages (from tensorboard<1.8.0,>=1.7.0->tensorflow>=1.4.0->baselines) (0.9999999)\n",
      "Requirement already satisfied: bleach==1.5.0 in /opt/conda/lib/python3.6/site-packages (from tensorboard<1.8.0,>=1.7.0->tensorflow>=1.4.0->baselines) (1.5.0)\n",
      "Requirement already satisfied: setuptools in /opt/conda/lib/python3.6/site-packages (from protobuf>=3.4.0->tensorflow>=1.4.0->baselines) (38.4.0)\n",
      "Requirement already satisfied: pycparser in /opt/conda/lib/python3.6/site-packages (from cffi>=1.10->mujoco-py>=1.50; extra == \"mujoco\"->gym[atari,classic_control,mujoco,robotics]->baselines) (2.18)\n",
      "Building wheels for collected packages: baselines, zmq, mpi4py\n",
      "  Running setup.py bdist_wheel for baselines ... \u001b[?25ldone\n",
      "\u001b[?25h  Stored in directory: /root/.cache/pip/wheels/c3/95/d4/dc08613e714458fb368c44948025dade91a37db5932faa058f\n",
      "  Running setup.py bdist_wheel for zmq ... \u001b[?25ldone\n",
      "\u001b[?25h  Stored in directory: /root/.cache/pip/wheels/44/7a/7d/ac1d865766b06f9769ac1154bf31dbb5abb3b52ecfe278247a\n",
      "  Running setup.py bdist_wheel for mpi4py ... \u001b[?25ldone\n",
      "\u001b[?25h  Stored in directory: /root/.cache/pip/wheels/1c/16/e7/9ee2f86b64235d1e78497cc25c92f44aef70ae7348b2f8a1e7\n",
      "Successfully built baselines zmq mpi4py\n",
      "Installing collected packages: zmq, python-utils, progressbar2, mpi4py, baselines\n",
      "Successfully installed baselines-0.1.5 mpi4py-3.1.0 progressbar2-3.53.1 python-utils-2.5.6 zmq-0.0.0\n"
     ]
    }
   ],
   "source": [
    "!pip install baselines"
   ]
  },
  {
   "cell_type": "markdown",
   "metadata": {},
   "source": [
    "## import dependencies"
   ]
  },
  {
   "cell_type": "code",
   "execution_count": 3,
   "metadata": {},
   "outputs": [],
   "source": [
    "import numpy as np\n",
    "import torch\n",
    "from unityagents import UnityEnvironment\n",
    "from collections import deque\n",
    "from Agent import Agent\n",
    "from DQN import Epsilon\n",
    "import matplotlib.pyplot as plt\n",
    "%matplotlib inline\n",
    "\n",
    "plt.ion()"
   ]
  },
  {
   "cell_type": "markdown",
   "metadata": {},
   "source": [
    "The environment is already saved in the Workspace and can be accessed at the file path provided below.  Please run the next code cell without making any changes."
   ]
  },
  {
   "cell_type": "code",
   "execution_count": 4,
   "metadata": {},
   "outputs": [
    {
     "name": "stderr",
     "output_type": "stream",
     "text": [
      "INFO:unityagents:\n",
      "'Academy' started successfully!\n",
      "Unity Academy name: Academy\n",
      "        Number of Brains: 1\n",
      "        Number of External Brains : 1\n",
      "        Lesson number : 0\n",
      "        Reset Parameters :\n",
      "\t\t\n",
      "Unity brain name: BananaBrain\n",
      "        Number of Visual Observations (per agent): 0\n",
      "        Vector Observation space type: continuous\n",
      "        Vector Observation space size (per agent): 37\n",
      "        Number of stacked Vector Observation: 1\n",
      "        Vector Action space type: discrete\n",
      "        Vector Action space size (per agent): 4\n",
      "        Vector Action descriptions: , , , \n"
     ]
    }
   ],
   "source": [
    "from unityagents import UnityEnvironment\n",
    "import numpy as np\n",
    "\n",
    "# please do not modify the line below\n",
    "env = UnityEnvironment(file_name=\"/data/Banana_Linux_NoVis/Banana.x86_64\")\n",
    "#env = UnityEnvironment(file_name= \"Banana_Windows_x86_64/Banana.exe\" )"
   ]
  },
  {
   "cell_type": "markdown",
   "metadata": {},
   "source": [
    "Environments contain **_brains_** which are responsible for deciding the actions of their associated agents. Here we check for the first brain available, and set it as the default brain we will be controlling from Python."
   ]
  },
  {
   "cell_type": "code",
   "execution_count": 5,
   "metadata": {},
   "outputs": [
    {
     "name": "stdout",
     "output_type": "stream",
     "text": [
      "BananaBrain\n",
      "Unity brain name: BananaBrain\n",
      "        Number of Visual Observations (per agent): 0\n",
      "        Vector Observation space type: continuous\n",
      "        Vector Observation space size (per agent): 37\n",
      "        Number of stacked Vector Observation: 1\n",
      "        Vector Action space type: discrete\n",
      "        Vector Action space size (per agent): 4\n",
      "        Vector Action descriptions: , , , \n"
     ]
    }
   ],
   "source": [
    "# get the default brain\n",
    "brain_name = env.brain_names[0]\n",
    "print(brain_name)\n",
    "brain = env.brains[brain_name]\n",
    "print(brain)"
   ]
  },
  {
   "cell_type": "code",
   "execution_count": 6,
   "metadata": {},
   "outputs": [],
   "source": [
    "###Hyperparameter####\n",
    "hidden_layer1 = 37 * 2\n",
    "hidden_layer2 = 37 * 2\n",
    "eps_start = 0.1\n",
    "eps_decay_rate = 0.995\n",
    "eps_max_decay_to = 0.01\n",
    "update_every = 4\n",
    "buffer_size = 1000000\n",
    "sample_batch_size = 64\n",
    "gamma = 0.99\n",
    "tau = 1e-3\n",
    "learning_rate = 0.0006"
   ]
  },
  {
   "cell_type": "code",
   "execution_count": 7,
   "metadata": {},
   "outputs": [],
   "source": [
    "episodes = 1000\n",
    "input_size = 37\n",
    "output_size = 4\n",
    "agent = Agent(input_size, hidden_layer1, hidden_layer2, output_size, buffer_size, sample_batch_size, gamma, tau, learning_rate)\n",
    "epsilon = Epsilon(eps_start, eps_decay_rate, eps_max_decay_to)\n",
    "scores = deque(maxlen=100)"
   ]
  },
  {
   "cell_type": "code",
   "execution_count": 8,
   "metadata": {},
   "outputs": [],
   "source": [
    "def dqn(episodes):\n",
    "    scores = []\n",
    "    scores_window = deque(maxlen=100)\n",
    "    for episode in range(1, episodes+1):\n",
    "        state = env.reset(train_mode=True)[brain_name].vector_observations[0]\n",
    "        score = 0\n",
    "        time = 0\n",
    "        while True:\n",
    "            current_epsilon = epsilon.eps_cal(time)\n",
    "            action = agent.select_action(state, current_epsilon)\n",
    "            env_info = env.step(action)[brain_name]\n",
    "            next_state, reward, done = env_info.vector_observations[0], env_info.rewards[0], env_info.local_done[0]\n",
    "            agent.add_to_buffer(state, action, reward, next_state, done)\n",
    "            update_target = time % update_every == 0\n",
    "            agent.learn(update_target)\n",
    "            score += reward\n",
    "            state = next_state\n",
    "            time += 1\n",
    "            if done:\n",
    "                break\n",
    "        scores_window.append(score)\n",
    "        scores.append(score)\n",
    "        mean_score = np.mean(scores)\n",
    "        average_score = np.mean(scores_window)\n",
    "        print('\\rEpisode {} \\tAverage score: {: .2f}'.format(episode, average_score), end=\"\")\n",
    "        if episode % 100 == 0:\n",
    "            print('\\rEpisode {} \\tAverage score: {: .2f}'.format(episode, average_score))\n",
    "            \n",
    "        if average_score >= 13:      # check if environment is solved\n",
    "            print('\\nEnvironment solved in {: d} episodes!\\tAverage Score: {: .2f}'.format(episode , average_score))\n",
    "            agent.save_model()\n",
    "            break\n",
    "    return scores"
   ]
  },
  {
   "cell_type": "markdown",
   "metadata": {},
   "source": [
    "## Train agent"
   ]
  },
  {
   "cell_type": "code",
   "execution_count": 9,
   "metadata": {},
   "outputs": [
    {
     "name": "stdout",
     "output_type": "stream",
     "text": [
      "Episode 100 \tAverage score:  1.71\n",
      "Episode 200 \tAverage score:  3.69\n",
      "Episode 300 \tAverage score:  9.39\n",
      "Episode 380 \tAverage score:  13.06\n",
      "Environment solved in  380 episodes!\tAverage Score:  13.06\n"
     ]
    }
   ],
   "source": [
    "scores = dqn(episodes)"
   ]
  },
  {
   "cell_type": "code",
   "execution_count": 10,
   "metadata": {},
   "outputs": [
    {
     "data": {
      "image/png": "[encoded data removed]",
      "text/plain": [
       "<matplotlib.figure.Figure at 0x7ff24fb0e518>"
      ]
     },
     "metadata": {
      "needs_background": "light"
     },
     "output_type": "display_data"
    }
   ],
   "source": [
    "# plot the scores\n",
    "fig = plt.figure()\n",
    "ax = fig.add_subplot(111)\n",
    "plt.plot(np.arange(len(scores)), scores)\n",
    "plt.ylabel('Score')\n",
    "plt.xlabel('Episodes')\n",
    "plt.show()"
   ]
  },
  {
   "cell_type": "markdown",
   "metadata": {},
   "source": [
    "Choose the checkpoint to load as per the variant of DQN used. If the original DQN is used without any changes, load the checkpoint model.pth"
   ]
  },
  {
   "cell_type": "code",
   "execution_count": 11,
   "metadata": {},
   "outputs": [],
   "source": [
    "agent.local_network.load_state_dict(torch.load('model.pth'))"
   ]
  },
  {
   "cell_type": "markdown",
   "metadata": {},
   "source": [
    "## Test the agent"
   ]
  },
  {
   "cell_type": "code",
   "execution_count": 12,
   "metadata": {},
   "outputs": [
    {
     "name": "stdout",
     "output_type": "stream",
     "text": [
      "Score: 18.0\n"
     ]
    }
   ],
   "source": [
    "env_info = env.reset(train_mode=False)[brain_name] # reset the environment\n",
    "state = env_info.vector_observations[0]            # get the current state\n",
    "score = 0 # initialize the score\n",
    "time = 0\n",
    "while True:\n",
    "    current_epsilon = epsilon.eps_cal(time)\n",
    "    action = agent.select_action(state, current_epsilon) # select an action\n",
    "    env_info = env.step(action)[brain_name]        # send the action to the environment\n",
    "    next_state = env_info.vector_observations[0]   # get the next state\n",
    "    reward = env_info.rewards[0]                   # get the reward\n",
    "    done = env_info.local_done[0]                  # see if episode has finished\n",
    "    score += reward                                # update the score\n",
    "    state = next_state                             # roll over the state to next time step\n",
    "    time += 1\n",
    "    if done:                                       # exit loop if episode finished\n",
    "        break\n",
    "    \n",
    "print(\"Score: {}\".format(score))"
   ]
  },
  {
   "cell_type": "markdown",
   "metadata": {},
   "source": [
    "### 3. Take Random Actions in the Environment\n",
    "\n",
    "In the next code cell, you will learn how to use the Python API to control the agent and receive feedback from the environment.\n",
    "\n",
    "Note that **in this coding environment, you will not be able to watch the agent while it is training**, and you should set `train_mode=True` to restart the environment."
   ]
  },
  {
   "cell_type": "code",
   "execution_count": 13,
   "metadata": {},
   "outputs": [
    {
     "name": "stdout",
     "output_type": "stream",
     "text": [
      "Number of agents: 1\n",
      "Number of actions: 4\n",
      "States look like: [ 0.          1.          0.          0.          0.48619521  0.          0.\n",
      "  0.          1.          0.          1.          0.          0.          0.\n",
      "  0.51761949  1.          0.          0.          0.          0.23618992\n",
      "  0.          0.          1.          0.          0.25689423  0.          0.\n",
      "  1.          0.          0.24444792  0.          0.          1.          0.\n",
      "  0.30087444  0.          0.        ]\n",
      "States have length: 37\n"
     ]
    }
   ],
   "source": [
    "# reset the environment\n",
    "env_info = env.reset(train_mode=True)[brain_name]\n",
    "\n",
    "# number of agents in the environment\n",
    "print('Number of agents:', len(env_info.agents))\n",
    "\n",
    "# number of actions\n",
    "action_size = brain.vector_action_space_size\n",
    "print('Number of actions:', action_size)\n",
    "\n",
    "# examine the state space \n",
    "state = env_info.vector_observations[0]\n",
    "print('States look like:', state)\n",
    "state_size = len(state)\n",
    "print('States have length:', state_size)"
   ]
  },
  {
   "cell_type": "code",
   "execution_count": 14,
   "metadata": {},
   "outputs": [
    {
     "name": "stdout",
     "output_type": "stream",
     "text": [
      "Score: 3.0\n"
     ]
    }
   ],
   "source": [
    "env_info = env.reset(train_mode=True)[brain_name] # reset the environment\n",
    "state = env_info.vector_observations[0]            # get the current state\n",
    "score = 0                                          # initialize the score\n",
    "while True:\n",
    "    action = np.random.randint(action_size)        # select an action\n",
    "    env_info = env.step(action)[brain_name]        # send the action to the environment\n",
    "    next_state = env_info.vector_observations[0]   # get the next state\n",
    "    reward = env_info.rewards[0]                   # get the reward\n",
    "    done = env_info.local_done[0]                  # see if episode has finished\n",
    "    score += reward                                # update the score\n",
    "    state = next_state                             # roll over the state to next time step\n",
    "    if done:                                       # exit loop if episode finished\n",
    "        break\n",
    "    \n",
    "print(\"Score: {}\".format(score))"
   ]
  },
  {
   "cell_type": "markdown",
   "metadata": {},
   "source": [
    "When finished, you can close the environment."
   ]
  },
  {
   "cell_type": "code",
   "execution_count": 15,
   "metadata": {},
   "outputs": [],
   "source": [
    "env.close()"
   ]
  }
 ],
 "metadata": {
  "kernelspec": {
   "display_name": "Python 3",
   "language": "python",
   "name": "python3"
  },
  "language_info": {
   "codemirror_mode": {
    "name": "ipython",
    "version": 3
   },
   "file_extension": ".py",
   "mimetype": "text/x-python",
   "name": "python",
   "nbconvert_exporter": "python",
   "pygments_lexer": "ipython3",
   "version": "3.8.8"
  }
 },
 "nbformat": 4,
 "nbformat_minor": 2
}
